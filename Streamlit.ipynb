{
 "cells": [
  {
   "cell_type": "markdown",
   "id": "536c4969-9722-4c61-ab5b-6891a240a14e",
   "metadata": {},
   "source": [
    "# Customer Conversion Analysis Using Clickstream Data"
   ]
  },
  {
   "cell_type": "code",
   "execution_count": null,
   "id": "ce6ad672-093e-4b51-baf6-d94e04217d2c",
   "metadata": {},
   "outputs": [],
   "source": [
    "!streamlit run app.py\n"
   ]
  },
  {
   "cell_type": "code",
   "execution_count": null,
   "id": "351ad4e3-b2db-4cf8-9bbe-5d66b43e225a",
   "metadata": {},
   "outputs": [],
   "source": []
  }
 ],
 "metadata": {
  "kernelspec": {
   "display_name": "Python 3 (ipykernel)",
   "language": "python",
   "name": "python3"
  },
  "language_info": {
   "codemirror_mode": {
    "name": "ipython",
    "version": 3
   },
   "file_extension": ".py",
   "mimetype": "text/x-python",
   "name": "python",
   "nbconvert_exporter": "python",
   "pygments_lexer": "ipython3",
   "version": "3.13.5"
  }
 },
 "nbformat": 4,
 "nbformat_minor": 5
}
